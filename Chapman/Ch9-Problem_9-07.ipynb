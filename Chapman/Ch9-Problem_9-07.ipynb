{
 "cells": [
  {
   "cell_type": "markdown",
   "metadata": {},
   "source": [
    "# Excercises Electric Machinery Fundamentals\n",
    "## Chapter 9"
   ]
  },
  {
   "cell_type": "markdown",
   "metadata": {},
   "source": [
    "## Problem 9-7"
   ]
  },
  {
   "cell_type": "markdown",
   "metadata": {},
   "source": [
    "### Description"
   ]
  },
  {
   "cell_type": "markdown",
   "metadata": {},
   "source": [
    "What type of motor would you select to perform each of the following jobs? Why?\n",
    "\n",
    "#### (a)\n",
    "\n",
    " * Vacuum cleaner \n",
    "\n",
    "#### (b)\n",
    "\n",
    " * Refrigerator\n",
    "\n",
    "#### (c)\n",
    " \n",
    " * Air conditioner compressor \n",
    " \n",
    "#### (d)\n",
    " \n",
    " * Air conditioner fan\n",
    "\n",
    "#### (e)\n",
    "\n",
    " * Variable-speed sewing machine \n",
    "\n",
    "#### (f)\n",
    " \n",
    " * Clock\n",
    "\n",
    "#### (g)\n",
    " \n",
    " * Electric drill"
   ]
  },
  {
   "cell_type": "markdown",
   "metadata": {},
   "source": [
    "### SOLUTION"
   ]
  },
  {
   "cell_type": "markdown",
   "metadata": {},
   "source": [
    "#### (a)\n",
    "Universal motor: for its high torque"
   ]
  },
  {
   "cell_type": "markdown",
   "metadata": {},
   "source": [
    "#### (b)\n",
    "Capacitor start or Capacitor start and run: For its high starting torque and relatively constant\n",
    "speed at a wide variety of loads"
   ]
  },
  {
   "cell_type": "markdown",
   "metadata": {},
   "source": [
    "#### (c)\n",
    "Same as (b) above"
   ]
  },
  {
   "cell_type": "markdown",
   "metadata": {},
   "source": [
    "#### (d)\n",
    "Split-phase: Fans are low-starting-torque applications, and a split-phase motor is appropriate"
   ]
  },
  {
   "cell_type": "markdown",
   "metadata": {},
   "source": [
    "#### (e)\n",
    "Universal Motor: Direction and speed are easy to control with solid-state drives"
   ]
  },
  {
   "cell_type": "markdown",
   "metadata": {},
   "source": [
    "#### (f)\n",
    "Hysteresis motor: for its easy starting and operation at n sync. A reluctance motor would also do\n",
    "nicely."
   ]
  },
  {
   "cell_type": "markdown",
   "metadata": {},
   "source": [
    "#### (e)\n",
    "Universal Motor: for easy speed control with solid-state drives, plus high torque under loaded\n",
    "conditions."
   ]
  }
 ],
 "metadata": {
  "kernelspec": {
   "display_name": "Python 3",
   "language": "python",
   "name": "python3"
  },
  "language_info": {
   "codemirror_mode": {
    "name": "ipython",
    "version": 3
   },
   "file_extension": ".py",
   "mimetype": "text/x-python",
   "name": "python",
   "nbconvert_exporter": "python",
   "pygments_lexer": "ipython3",
   "version": "3.5.2"
  }
 },
 "nbformat": 4,
 "nbformat_minor": 0
}
