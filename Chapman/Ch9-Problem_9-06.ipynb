{
 "cells": [
  {
   "cell_type": "markdown",
   "metadata": {},
   "source": [
    "# Excercises Electric Machinery Fundamentals\n",
    "## Chapter 9"
   ]
  },
  {
   "cell_type": "markdown",
   "metadata": {},
   "source": [
    "## Problem 9-6"
   ]
  },
  {
   "cell_type": "code",
   "execution_count": 1,
   "metadata": {
    "collapsed": false,
    "slideshow": {
     "slide_type": "skip"
    }
   },
   "outputs": [
    {
     "name": "stdout",
     "output_type": "stream",
     "text": [
      "Populating the interactive namespace from numpy and matplotlib\n"
     ]
    },
    {
     "data": {
      "text/plain": [
       "'%.4g'"
      ]
     },
     "execution_count": 1,
     "metadata": {},
     "output_type": "execute_result"
    }
   ],
   "source": [
    "%pylab inline\n",
    "%precision %.4g"
   ]
  },
  {
   "cell_type": "markdown",
   "metadata": {},
   "source": [
    "### Description"
   ]
  },
  {
   "cell_type": "markdown",
   "metadata": {},
   "source": [
    "Find the induced torque in the motor in [Problem 9-5](Ch9-Problem_9-05.ipynb) if it is operating at 5 percent slip and its terminal\n",
    "voltage is:\n",
    "\n",
    "#### (a)\n",
    "\n",
    " * 190 V\n",
    "\n",
    "#### (b)\n",
    " \n",
    " * 208 V\n",
    " \n",
    "#### (c)\n",
    " \n",
    " * 230 V."
   ]
  },
  {
   "cell_type": "code",
   "execution_count": 2,
   "metadata": {
    "collapsed": false
   },
   "outputs": [],
   "source": [
    "p  =   6\n",
    "R1 =   1.3    # [Ohm]\n",
    "R2 =   1.73   # [Ohm]\n",
    "X1 =   2.01   # [Ohm]\n",
    "X2 =   2.01   # [Ohm]\n",
    "Xm = 105.0    # [Ohm]\n",
    "s  =   0.05\n",
    "Prot = 291    # [W]\n",
    "n_sync = 1000 # [r/min]"
   ]
  },
  {
   "cell_type": "markdown",
   "metadata": {},
   "source": [
    "### SOLUTION"
   ]
  },
  {
   "cell_type": "markdown",
   "metadata": {},
   "source": [
    "The impedances $Z_F$ and $Z_B$ are:\n",
    "\n",
    "$$Z_F = \\frac{(R_2/s + jX_2)(jX_M)}{R_2/s + jX_2 + jX_M}$$"
   ]
  },
  {
   "cell_type": "code",
   "execution_count": 3,
   "metadata": {
    "collapsed": false
   },
   "outputs": [
    {
     "data": {
      "text/plain": [
       "(30.159388770353413+11.72380947064973j)"
      ]
     },
     "execution_count": 3,
     "metadata": {},
     "output_type": "execute_result"
    }
   ],
   "source": [
    "Zf = ((R2/s + X2*1j)*(Xm*1j)) / (R2/s + X2*1j + Xm*1j)\n",
    "Zf"
   ]
  },
  {
   "cell_type": "markdown",
   "metadata": {},
   "source": [
    "$$Z_B = \\frac{(R_2/(2-s) + jX_2)(jX_M)}{R_2/(2-s) + jX_2 + jX_M}$$"
   ]
  },
  {
   "cell_type": "code",
   "execution_count": 4,
   "metadata": {
    "collapsed": false
   },
   "outputs": [
    {
     "data": {
      "text/plain": [
       "(0.8541054868807845+1.9793266504798435j)"
      ]
     },
     "execution_count": 4,
     "metadata": {},
     "output_type": "execute_result"
    }
   ],
   "source": [
    "Zb = ((R2/(2-s) + X2*1j)*(Xm*1j)) / (R2/(2-s) + X2*1j + Xm*1j)\n",
    "Zb"
   ]
  },
  {
   "cell_type": "markdown",
   "metadata": {},
   "source": [
    "#### (a)\n",
    "If $\\vec{V}_T = 190 \\angle 0°$\n",
    "$$\\vec{I}_1 = \\frac{\\vec{V}}{R_1 + jX_1 + 0.5Z_F + 0.5Z_B}$$"
   ]
  },
  {
   "cell_type": "code",
   "execution_count": 5,
   "metadata": {
    "collapsed": false
   },
   "outputs": [
    {
     "name": "stdout",
     "output_type": "stream",
     "text": [
      "I1_a = 10.00 A ∠-27.8°\n"
     ]
    }
   ],
   "source": [
    "V_a = 190.0 # [V]\n",
    "I1_a = V_a / (R1 +X1*1j + 0.5*Zf + 0.5*Zb)\n",
    "I1_a_angle = arctan(I1_a.imag/I1_a.real)\n",
    "print('''I1_a = {:.2f} A ∠{:.1f}°'''.format(abs(I1_a), I1_a_angle/pi*180))"
   ]
  },
  {
   "cell_type": "code",
   "execution_count": 6,
   "metadata": {
    "collapsed": false
   },
   "outputs": [
    {
     "data": {
      "text/plain": [
       "1508"
      ]
     },
     "execution_count": 6,
     "metadata": {},
     "output_type": "execute_result"
    }
   ],
   "source": [
    "Pag_f_a = abs(I1_a)**2*0.5*Zf.real\n",
    "Pag_f_a"
   ]
  },
  {
   "cell_type": "code",
   "execution_count": 7,
   "metadata": {
    "collapsed": false
   },
   "outputs": [
    {
     "data": {
      "text/plain": [
       "42.71"
      ]
     },
     "execution_count": 7,
     "metadata": {},
     "output_type": "execute_result"
    }
   ],
   "source": [
    "Pag_b_a = abs(I1_a)**2*0.5*Zb.real\n",
    "Pag_b_a"
   ]
  },
  {
   "cell_type": "code",
   "execution_count": 8,
   "metadata": {
    "collapsed": false
   },
   "outputs": [
    {
     "data": {
      "text/plain": [
       "1465"
      ]
     },
     "execution_count": 8,
     "metadata": {},
     "output_type": "execute_result"
    }
   ],
   "source": [
    "Pag_a = Pag_f_a - Pag_b_a\n",
    "Pag_a"
   ]
  },
  {
   "cell_type": "markdown",
   "metadata": {},
   "source": [
    "$$\\tau_\\text{ind} = \\frac{P_\\text{AG}}{\\omega_\\text{sync}}$$"
   ]
  },
  {
   "cell_type": "code",
   "execution_count": 9,
   "metadata": {
    "collapsed": false
   },
   "outputs": [
    {
     "name": "stdout",
     "output_type": "stream",
     "text": [
      "\n",
      "τ_ind_a = 13.99 Nm\n",
      "==================\n"
     ]
    }
   ],
   "source": [
    "w_sync = n_sync * (2.0*pi/1.0) * (1/60)\n",
    "tau_ind_a = Pag_a / w_sync\n",
    "print('''\n",
    "τ_ind_a = {:.2f} Nm\n",
    "=================='''.format(tau_ind_a))"
   ]
  },
  {
   "cell_type": "markdown",
   "metadata": {},
   "source": [
    "#### (b)\n",
    "If $\\vec{V}_T = 208 \\angle 0°$"
   ]
  },
  {
   "cell_type": "code",
   "execution_count": 10,
   "metadata": {
    "collapsed": false
   },
   "outputs": [
    {
     "name": "stdout",
     "output_type": "stream",
     "text": [
      "I1_b = 10.95 A ∠-27.8°\n"
     ]
    }
   ],
   "source": [
    "V_b = 208.0 # [V]\n",
    "I1_b = V_b / (R1 +X1*1j + 0.5*Zf + 0.5*Zb)\n",
    "I1_b_angle = arctan(I1_b.imag/I1_b.real)\n",
    "print('''I1_b = {:.2f} A ∠{:.1f}°'''.format(abs(I1_b), I1_b_angle/pi*180))"
   ]
  },
  {
   "cell_type": "code",
   "execution_count": 11,
   "metadata": {
    "collapsed": false
   },
   "outputs": [
    {
     "data": {
      "text/plain": [
       "1807"
      ]
     },
     "execution_count": 11,
     "metadata": {},
     "output_type": "execute_result"
    }
   ],
   "source": [
    "Pag_f_b = abs(I1_b)**2*0.5*Zf.real\n",
    "Pag_f_b"
   ]
  },
  {
   "cell_type": "code",
   "execution_count": 12,
   "metadata": {
    "collapsed": false
   },
   "outputs": [
    {
     "data": {
      "text/plain": [
       "51.18"
      ]
     },
     "execution_count": 12,
     "metadata": {},
     "output_type": "execute_result"
    }
   ],
   "source": [
    "Pag_b_b = abs(I1_b)**2*0.5*Zb.real\n",
    "Pag_b_b"
   ]
  },
  {
   "cell_type": "code",
   "execution_count": 13,
   "metadata": {
    "collapsed": false
   },
   "outputs": [
    {
     "data": {
      "text/plain": [
       "1756"
      ]
     },
     "execution_count": 13,
     "metadata": {},
     "output_type": "execute_result"
    }
   ],
   "source": [
    "Pag_b = Pag_f_b - Pag_b_b\n",
    "Pag_b"
   ]
  },
  {
   "cell_type": "code",
   "execution_count": 14,
   "metadata": {
    "collapsed": false
   },
   "outputs": [
    {
     "name": "stdout",
     "output_type": "stream",
     "text": [
      "\n",
      "τ_ind_b = 16.77 Nm\n",
      "==================\n"
     ]
    }
   ],
   "source": [
    "w_sync = n_sync * (2.0*pi/1.0) * (1/60)\n",
    "tau_ind_b = Pag_b / w_sync\n",
    "print('''\n",
    "τ_ind_b = {:.2f} Nm\n",
    "=================='''.format(tau_ind_b))"
   ]
  },
  {
   "cell_type": "markdown",
   "metadata": {},
   "source": [
    "#### (c)\n",
    "If $\\vec{V}_T = 230 \\angle 0°$"
   ]
  },
  {
   "cell_type": "code",
   "execution_count": 15,
   "metadata": {
    "collapsed": false
   },
   "outputs": [
    {
     "name": "stdout",
     "output_type": "stream",
     "text": [
      "I1_c = 12.11 A ∠-27.8°\n"
     ]
    }
   ],
   "source": [
    "V_c = 230.0 # [V]\n",
    "I1_c = V_c / (R1 +X1*1j + 0.5*Zf + 0.5*Zb)\n",
    "I1_c_angle = arctan(I1_c.imag/I1_c.real)\n",
    "print('I1_c = {:.2f} A ∠{:.1f}°'.format(abs(I1_c), I1_c_angle/pi*180))"
   ]
  },
  {
   "cell_type": "code",
   "execution_count": 16,
   "metadata": {
    "collapsed": false
   },
   "outputs": [
    {
     "data": {
      "text/plain": [
       "2210"
      ]
     },
     "execution_count": 16,
     "metadata": {},
     "output_type": "execute_result"
    }
   ],
   "source": [
    "Pag_f_c = abs(I1_c)**2*0.5*Zf.real\n",
    "Pag_f_c"
   ]
  },
  {
   "cell_type": "code",
   "execution_count": 17,
   "metadata": {
    "collapsed": false
   },
   "outputs": [
    {
     "data": {
      "text/plain": [
       "62.58"
      ]
     },
     "execution_count": 17,
     "metadata": {},
     "output_type": "execute_result"
    }
   ],
   "source": [
    "Pag_b_c = abs(I1_c)**2*0.5*Zb.real\n",
    "Pag_b_c"
   ]
  },
  {
   "cell_type": "code",
   "execution_count": 18,
   "metadata": {
    "collapsed": false
   },
   "outputs": [
    {
     "data": {
      "text/plain": [
       "2147"
      ]
     },
     "execution_count": 18,
     "metadata": {},
     "output_type": "execute_result"
    }
   ],
   "source": [
    "Pag_c = Pag_f_c - Pag_b_c\n",
    "Pag_c"
   ]
  },
  {
   "cell_type": "code",
   "execution_count": 19,
   "metadata": {
    "collapsed": false
   },
   "outputs": [
    {
     "name": "stdout",
     "output_type": "stream",
     "text": [
      "\n",
      "τ_ind_c = 20.50 Nm\n",
      "==================\n"
     ]
    }
   ],
   "source": [
    "w_sync = n_sync * (2.0*pi/1.0) * (1/60)\n",
    "tau_ind_c = Pag_c / w_sync\n",
    "print('''\n",
    "τ_ind_c = {:.2f} Nm\n",
    "=================='''.format(tau_ind_c))"
   ]
  }
 ],
 "metadata": {
  "kernelspec": {
   "display_name": "Python 3",
   "language": "python",
   "name": "python3"
  },
  "language_info": {
   "codemirror_mode": {
    "name": "ipython",
    "version": 3
   },
   "file_extension": ".py",
   "mimetype": "text/x-python",
   "name": "python",
   "nbconvert_exporter": "python",
   "pygments_lexer": "ipython3",
   "version": "3.5.2"
  }
 },
 "nbformat": 4,
 "nbformat_minor": 0
}
